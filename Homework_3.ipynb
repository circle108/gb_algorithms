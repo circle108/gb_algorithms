{
 "cells": [
  {
   "cell_type": "code",
   "execution_count": 1,
   "metadata": {},
   "outputs": [],
   "source": [
    "import numpy as np\n",
    "import matplotlib.pyplot as plt\n",
    "from sklearn.metrics import accuracy_score, precision_score, recall_score"
   ]
  },
  {
   "cell_type": "code",
   "execution_count": 2,
   "metadata": {},
   "outputs": [],
   "source": [
    "X = np.array([[1, 1, 1, 1, 1, 1, 1, 1, 1, 1],\n",
    "              [1, 1, 2, 1, 3, 0, 5, 10, 1, 2],  # стаж\n",
    "              [500, 700, 750, 600, 1450,        # средняя стоимость занятия\n",
    "               800, 1500, 2000, 450, 1000],\n",
    "              [1, 1, 2, 1, 2, 1, 3, 3, 1, 2]], dtype = np.float64) # квалификация репетитора\n",
    "\n",
    "y = np.array([0, 0, 1, 0, 1, 0, 1, 0, 1, 1]) # подходит или нет репетитор"
   ]
  },
  {
   "cell_type": "code",
   "execution_count": 3,
   "metadata": {},
   "outputs": [
    {
     "data": {
      "text/plain": [
       "array([-0.97958969, -0.56713087, -0.46401617, -0.77336028,  0.97958969,\n",
       "       -0.36090146,  1.08270439,  2.11385144, -1.08270439,  0.05155735])"
      ]
     },
     "execution_count": 3,
     "metadata": {},
     "output_type": "execute_result"
    }
   ],
   "source": [
    "def calc_std_feat(x):\n",
    "    res = (x - x.mean()) / x.std()\n",
    "    return res\n",
    "\n",
    "X_st = X.copy()\n",
    "X_st[2, :] = calc_std_feat(X[2, :])\n",
    "X_st[2, :]"
   ]
  },
  {
   "cell_type": "code",
   "execution_count": 4,
   "metadata": {},
   "outputs": [],
   "source": [
    "def calc_logloss(y, y_pred):\n",
    "    err = np.mean(- y * np.log(y_pred) - (1.0 - y) * np.log(1.0 - y_pred))\n",
    "    return err"
   ]
  },
  {
   "cell_type": "code",
   "execution_count": 5,
   "metadata": {},
   "outputs": [],
   "source": [
    "def sigmoid(z):\n",
    "    res = 1 / (1 + np.exp(-z))\n",
    "    return res"
   ]
  },
  {
   "cell_type": "code",
   "execution_count": 57,
   "metadata": {},
   "outputs": [],
   "source": [
    "def eval_LR_model(X, y, iterations, alpha=1e-4):\n",
    "    np.random.seed(42)\n",
    "    w = np.random.randn(X.shape[0])\n",
    "    n = X.shape[1]\n",
    "    for i in range(1, iterations + 1):\n",
    "        \n",
    "        \n",
    "        z = np.dot(w, X)\n",
    "        y_pred = sigmoid(z)\n",
    "        err = calc_logloss(y, y_pred)\n",
    "        \n",
    "        #y_pred = np.dot(w, X)\n",
    "        #err = calc_mse(y, y_pred)\n",
    "\n",
    "        w -= alpha * (1/n * np.dot((y_pred - y), X.T))\n",
    "        if i % (iterations / 10) == 0:\n",
    "            print(i, w, err)\n",
    "    return w"
   ]
  },
  {
   "cell_type": "markdown",
   "metadata": {},
   "source": [
    "### Task 1 - змените функцию calc_logloss так, чтобы нули по возможности не попадали в np.log (как вариант - np.clip"
   ]
  },
  {
   "cell_type": "code",
   "execution_count": 44,
   "metadata": {},
   "outputs": [],
   "source": [
    "def calc_logloss(y, y_pred):\n",
    "    y_pred_cor = np.clip(y_pred, 1e-12,a_max=None)\n",
    "    err = np.mean(- y * np.log(y_pred_cor) - (1.0 - y) * np.log(1.0 - y_pred_cor))\n",
    "    return err"
   ]
  },
  {
   "cell_type": "code",
   "execution_count": 45,
   "metadata": {},
   "outputs": [
    {
     "name": "stdout",
     "output_type": "stream",
     "text": [
      " Iteration 100, Weights [ 0.49282748 -0.15007528  0.64748973  1.51727915], Proba [0.7731123  0.81653305 0.9491737  0.79567858 0.97615259 0.85526688\n",
      " 0.99328138 0.9927105  0.76118791 0.96306664]\n",
      " Iteration 200, Weights [ 0.48896219 -0.16184918  0.64728128  1.51155738], Proba [0.7693796  0.81332918 0.94727084 0.79221028 0.9749401  0.8540854\n",
      " 0.99272495 0.99163077 0.75732455 0.96165894]\n",
      " Iteration 300, Weights [ 0.48511874 -0.17358386  0.64706349  1.50586552], Proba [0.76562206 0.81009717 0.94530934 0.7887151  0.97367248 0.85290285\n",
      " 0.99212512 0.99039726 0.75343772 0.9602059 ]\n",
      " Iteration 400, Weights [ 0.4812976  -0.18527698  0.64683669  1.50020462], Proba [0.76184106 0.80683807 0.94328841 0.78519423 0.97234795 0.85171952\n",
      " 0.99147891 0.98898954 0.74952885 0.95870677]\n",
      " Iteration 500, Weights [ 0.47749927 -0.19692597  0.64660127  1.4945758 ], Proba [0.75803804 0.803553   0.94120737 0.78164897 0.97096471 0.8505357\n",
      " 0.99078317 0.98738483 0.74559949 0.95716084]\n",
      " Iteration 600, Weights [ 0.47372426 -0.20852799  0.6463577   1.48898028], Proba [0.75421457 0.80024318 0.93906563 0.7780807  0.96952103 0.84935173\n",
      " 0.99003465 0.98555786 0.74165126 0.9555675 ]\n",
      " Iteration 700, Weights [ 0.46997312 -0.22007992  0.6461065   1.48341934], Proba [0.7503723  0.79690995 0.93686274 0.77449093 0.96801523 0.84816794\n",
      " 0.98922994 0.98348067 0.73768591 0.95392622]\n",
      " Iteration 800, Weights [ 0.46624642 -0.23157833  0.64584825  1.47789438], Proba [0.74651301 0.79355477 0.93459839 0.77088126 0.96644571 0.84698467\n",
      " 0.98836552 0.98112253 0.73370529 0.95223659]\n",
      " Iteration 900, Weights [ 0.46254476 -0.24301946  0.64558365  1.4724069 ], Proba [0.7426386  0.79017921 0.93227242 0.76725344 0.96481099 0.84580231\n",
      " 0.98743777 0.97844984 0.72971138 0.95049828]\n",
      " Iteration 1000, Weights [ 0.45886878 -0.25439917  0.64531344  1.46695851], Proba [0.7387511  0.78678497 0.92988489 0.76360935 0.96310971 0.84462125\n",
      " 0.98644299 0.9754261  0.72570628 0.94871112]\n"
     ]
    }
   ],
   "source": [
    "W = eval_LR_model(X_st, y, iterations=1000, alpha=1e-4)"
   ]
  },
  {
   "cell_type": "markdown",
   "metadata": {},
   "source": [
    "### Task 2 - Подберите аргументы функции eval_LR_model для логистической регрессии таким образом, чтобы log loss был минимальным."
   ]
  },
  {
   "cell_type": "code",
   "execution_count": 7,
   "metadata": {},
   "outputs": [],
   "source": [
    "def eval_LR_model(X, y, alpha=1e-4):\n",
    "    np.random.seed(42)\n",
    "    W = np.random.randn(X.shape[0])\n",
    "    n = X.shape[1]\n",
    "    i = 0\n",
    "    delta = 1e-5\n",
    "    err = np.inf\n",
    "    \n",
    "    while True:\n",
    "        z = np.dot(W, X)\n",
    "        y_pred = sigmoid(z)\n",
    "        err_new = calc_logloss(y, y_pred)\n",
    "        W -= alpha * (1/n * np.dot((y_pred - y), X.T))\n",
    "            \n",
    "        if abs(err - err_new) <= delta:\n",
    "            return(i, W, err)\n",
    "        else:\n",
    "            err = err_new\n",
    "            i += 1\n",
    "    return W"
   ]
  },
  {
   "cell_type": "code",
   "execution_count": 8,
   "metadata": {},
   "outputs": [
    {
     "name": "stdout",
     "output_type": "stream",
     "text": [
      "Iteration 6889, Weights [ 0.30484831 -0.64299824  0.65968825  1.27144238], error 0.608860244923452\n",
      "Iteration 4152, Weights [ 0.27267716 -0.6733186   0.67829466  1.24905159], error 0.594972380633772\n",
      "Iteration 3094, Weights [ 0.20548233 -0.69490797  0.73001333  1.22223523], error 0.5789668242611163\n",
      "Iteration 3016, Weights [ 0.06146141 -0.68603187  0.85260956  1.21305757], error 0.5558287097554773\n",
      "Iteration 2565, Weights [-0.09924194 -0.68920757  0.96824219  1.25685066], error 0.5390646883831742\n",
      "Iteration 3872, Weights [-0.57606471 -0.79958528  1.11265147  1.66333134], error 0.5036484978805061\n",
      "Iteration 6822, Weights [-2.01991797 -0.97320565  0.83993406  2.78408516], error 0.43337113257078075\n",
      "Iteration 7570, Weights [-3.99609587 -1.02006284  0.08932723  4.05101538], error 0.36853676125653717\n",
      "Iteration 6593, Weights [-5.97956702 -1.091073   -0.64593205  5.41143908], error 0.32369553197603584\n",
      "Iteration 5852, Weights [-8.53579974 -1.24563049 -1.51151549  7.33020294], error 0.28385397215014774\n"
     ]
    }
   ],
   "source": [
    "for alpha in np.logspace(-4,-1,10):\n",
    "    i, W, err = eval_LR_model(X_st, y, alpha)\n",
    "    print(f'Iteration {i}, Weights {W}, error {err}')"
   ]
  },
  {
   "cell_type": "markdown",
   "metadata": {},
   "source": [
    "### Task 3 - Создайте функцию calc_pred_proba, возвращающую предсказанную вероятность класса 1 (на вход подаются веса, которые уже посчитаны функцией eval_LR_model и X, на выходе - массив y_pred_proba)"
   ]
  },
  {
   "cell_type": "code",
   "execution_count": 9,
   "metadata": {},
   "outputs": [],
   "source": [
    "def calc_pred_proba(W, X):\n",
    "    y_pred_proba = sigmoid(np.dot(W, X))\n",
    "    return y_pred_proba"
   ]
  },
  {
   "cell_type": "code",
   "execution_count": 10,
   "metadata": {},
   "outputs": [],
   "source": [
    "def eval_LR_model_proba(X, y, iterations, alpha=1e-4):\n",
    "    np.random.seed(42)\n",
    "    w = np.random.randn(X.shape[0])\n",
    "    n = X.shape[1]\n",
    "    for i in range(1, iterations + 1):\n",
    "        y_pred = calc_pred_proba(w, X)\n",
    "        err = calc_logloss(y, y_pred)\n",
    "        \n",
    "        #y_pred = np.dot(w, X)\n",
    "        #err = calc_mse(y, y_pred)\n",
    "\n",
    "        w -= alpha * (1/n * np.dot((y_pred - y), X.T))\n",
    "        if i % (iterations / 10) == 0:\n",
    "            print(f' Iteration {i}, Weights {w}, Proba {y_pred}')\n",
    "   "
   ]
  },
  {
   "cell_type": "code",
   "execution_count": 11,
   "metadata": {},
   "outputs": [
    {
     "name": "stdout",
     "output_type": "stream",
     "text": [
      " Iteration 100, Weights [ 0.25769171 -0.68297243  0.68841418  1.2405903 ], Proba [0.53607431 0.60541814 0.7422915  0.57109511 0.79705706 0.77767728\n",
      " 0.78843285 0.19985227 0.51840725 0.80413529]\n",
      " Iteration 200, Weights [ 0.14805533 -0.69317972  0.77965488  1.21287192], Proba [0.47645678 0.55650611 0.6957196  0.51658785 0.77869268 0.74665932\n",
      " 0.76220483 0.18266285 0.45647252 0.77356346]\n",
      " Iteration 300, Weights [ 0.06257746 -0.68605867  0.85181735  1.21283095], Proba [0.43935049 0.52679455 0.67298372 0.48294194 0.7797799  0.72490536\n",
      " 0.76722525 0.2042211  0.41785907 0.76143456]\n",
      " Iteration 400, Weights [-0.00887935 -0.68415387  0.90713736  1.22443854], Proba [0.41187041 0.50442949 0.65731176 0.45778572 0.78177463 0.70865186\n",
      " 0.77303149 0.22091504 0.38942549 0.75376301]\n",
      " Iteration 500, Weights [-0.0701621  -0.68661758  0.94984062  1.24404686], Proba [0.39116152 0.48729838 0.64664623 0.4386544  0.78387724 0.69668605\n",
      " 0.77850519 0.23203289 0.36810938 0.74910571]\n",
      " Iteration 600, Weights [-0.1239972  -0.69202069  0.98318257  1.26924759], Proba [0.37535853 0.4740494  0.63979461 0.42394584 0.78607363 0.68799454\n",
      " 0.78377991 0.23894972 0.35191178 0.74672542]\n",
      " Iteration 700, Weights [-0.17239277 -0.69933957  1.00953865  1.29824779], Proba [0.36309645 0.46365084 0.63578235 0.41246083 0.78832891 0.68173441\n",
      " 0.78891215 0.24283919 0.33938775 0.74601583]\n",
      " Iteration 800, Weights [-0.21681092 -0.7078635   1.03062761  1.32973537], Proba [0.35339435 0.45533473 0.63384605 0.40332129 0.79059656 0.67724556\n",
      " 0.7939075  0.24458674 0.32950928 0.74649757]\n",
      " Iteration 900, Weights [-0.25830834 -0.71709934  1.04769231  1.36276535], Proba [0.34555453 0.44854002 0.63340919 0.39589366 0.79283479 0.6740294\n",
      " 0.79875567 0.24484051 0.32155072 0.7478076 ]\n",
      " Iteration 1000, Weights [-0.29764618 -0.72670545  1.061634    1.39666497], Proba [0.33908182 0.44286061 0.63404548 0.38972353 0.79501138 0.67171723\n",
      " 0.80344487 0.24406776 0.31500011 0.74967822]\n"
     ]
    }
   ],
   "source": [
    "eval_LR_model_proba(X_st, y, iterations=1000, alpha=1e-2)"
   ]
  },
  {
   "cell_type": "markdown",
   "metadata": {},
   "source": [
    "### Task 4 - Создайте функцию calc_pred, возвращающую предсказанный класс (на вход подаются веса, которые уже посчитаны функцией eval_LR_model и X, на выходе - массив y_pred)."
   ]
  },
  {
   "cell_type": "code",
   "execution_count": 12,
   "metadata": {},
   "outputs": [],
   "source": [
    "def calc_pred(W, X):\n",
    "    y_pred_tmp = sigmoid(np.dot(W, X))\n",
    "    y_pred = np.zeros(y_pred_tmp.shape[0]) \n",
    "\n",
    "    for i in range(y_pred_tmp.shape[0]):\n",
    "        if (y_pred_tmp[i] > 0.5): \n",
    "            y_pred[i] = 1\n",
    "        else:\n",
    "            y_pred[i] = 0\n",
    "    \n",
    "    return y_pred"
   ]
  },
  {
   "cell_type": "code",
   "execution_count": 13,
   "metadata": {},
   "outputs": [
    {
     "data": {
      "text/plain": [
       "array([0., 0., 1., 0., 1., 0., 1., 0., 0., 1.])"
      ]
     },
     "execution_count": 13,
     "metadata": {},
     "output_type": "execute_result"
    }
   ],
   "source": [
    "calc_pred(W, X_st)"
   ]
  },
  {
   "cell_type": "markdown",
   "metadata": {},
   "source": [
    "### Task 7 - Создайте функции eval_LR_model_l1 и eval_LR_model_l2 с применением L1 и L2 регуляризации соответственно."
   ]
  },
  {
   "cell_type": "code",
   "execution_count": 14,
   "metadata": {},
   "outputs": [],
   "source": [
    "def eval_model_l1(X, y, iterations, alpha=1e-4, lambda_=1e-8):\n",
    "    np.random.seed(42)\n",
    "    W = np.random.randn(X.shape[0])\n",
    "    n = X.shape[1]\n",
    "    for i in range(1, iterations+1):\n",
    "        y_pred = sigmoid(np.dot(W, X))\n",
    "        err = calc_logloss(y, y_pred)\n",
    "        W -= alpha * (1/n * np.dot((y_pred - y), X.T) + np.sign(W) * lambda_/2)\n",
    "        if i % (iterations / 10) == 0:\n",
    "            print(f'Iteration {i}, Weights {W}, Error {err}')\n",
    "    return W"
   ]
  },
  {
   "cell_type": "code",
   "execution_count": 15,
   "metadata": {},
   "outputs": [],
   "source": [
    "def eval_model_l2(X, y, iterations, alpha=1e-4, lambda_=1e-8):\n",
    "    np.random.seed(42)\n",
    "    W = np.random.randn(X.shape[0])\n",
    "    n = X.shape[1]\n",
    "    for i in range(1, iterations+1):\n",
    "        y_pred = sigmoid(np.dot(W, X))\n",
    "        err = calc_logloss(y, y_pred)\n",
    "        W -= alpha * (1/n * np.dot((y_pred - y), X.T) + lambda_ * W)\n",
    "        if i % (iterations / 10) == 0:\n",
    "            print(f'Iteration {i}, Weights {W}, Error {err}')\n",
    "    return W"
   ]
  },
  {
   "cell_type": "code",
   "execution_count": 16,
   "metadata": {},
   "outputs": [
    {
     "name": "stdout",
     "output_type": "stream",
     "text": [
      "Iteration 1000, Weights [ 0.49671026 -0.13827613  0.64768834  1.52302409], Error 1.2200468091973615\n",
      "Iteration 2000, Weights [ 0.49670636 -0.13828796  0.64768815  1.52301833], Error 1.2200279718986276\n",
      "Iteration 3000, Weights [ 0.49670246 -0.13829979  0.64768796  1.52301256], Error 1.2200091347312805\n",
      "Iteration 4000, Weights [ 0.49669856 -0.13831162  0.64768776  1.5230068 ], Error 1.2199902976953312\n",
      "Iteration 5000, Weights [ 0.49669467 -0.13832344  0.64768757  1.52300103], Error 1.219971460790777\n",
      "Iteration 6000, Weights [ 0.49669077 -0.13833527  0.64768737  1.52299527], Error 1.219952624017627\n",
      "Iteration 7000, Weights [ 0.49668687 -0.1383471   0.64768718  1.5229895 ], Error 1.2199337873758913\n",
      "Iteration 8000, Weights [ 0.49668298 -0.13835893  0.64768699  1.52298374], Error 1.2199149508655678\n",
      "Iteration 9000, Weights [ 0.49667908 -0.13837076  0.64768679  1.52297798], Error 1.2198961144866662\n",
      "Iteration 10000, Weights [ 0.49667518 -0.13838259  0.6476866   1.52297221], Error 1.2198772782391871\n"
     ]
    },
    {
     "data": {
      "text/plain": [
       "array([ 0.49667518, -0.13838259,  0.6476866 ,  1.52297221])"
      ]
     },
     "execution_count": 16,
     "metadata": {},
     "output_type": "execute_result"
    }
   ],
   "source": [
    "eval_model_l1(X_st, y, iterations=10000, alpha=1e-8)"
   ]
  },
  {
   "cell_type": "code",
   "execution_count": 17,
   "metadata": {},
   "outputs": [
    {
     "name": "stdout",
     "output_type": "stream",
     "text": [
      "Iteration 1000, Weights [ 0.49671026 -0.13827613  0.64768834  1.52302409], Error 1.2200468091972592\n",
      "Iteration 2000, Weights [ 0.49670636 -0.13828796  0.64768815  1.52301833], Error 1.2200279718984213\n",
      "Iteration 3000, Weights [ 0.49670246 -0.13829979  0.64768796  1.52301256], Error 1.220009134730977\n",
      "Iteration 4000, Weights [ 0.49669856 -0.13831162  0.64768776  1.5230068 ], Error 1.219990297694922\n",
      "Iteration 5000, Weights [ 0.49669467 -0.13832344  0.64768757  1.52300103], Error 1.2199714607902672\n",
      "Iteration 6000, Weights [ 0.49669077 -0.13833527  0.64768737  1.52299527], Error 1.219952624017019\n",
      "Iteration 7000, Weights [ 0.49668687 -0.1383471   0.64768718  1.5229895 ], Error 1.219933787375179\n",
      "Iteration 8000, Weights [ 0.49668298 -0.13835893  0.64768699  1.52298374], Error 1.219914950864753\n",
      "Iteration 9000, Weights [ 0.49667908 -0.13837076  0.64768679  1.52297798], Error 1.2198961144857479\n",
      "Iteration 10000, Weights [ 0.49667518 -0.13838259  0.6476866   1.52297221], Error 1.2198772782381664\n"
     ]
    },
    {
     "data": {
      "text/plain": [
       "array([ 0.49667518, -0.13838259,  0.6476866 ,  1.52297221])"
      ]
     },
     "execution_count": 17,
     "metadata": {},
     "output_type": "execute_result"
    }
   ],
   "source": [
    "eval_model_l2(X_st, y, iterations=10000, alpha=1e-8)"
   ]
  },
  {
   "cell_type": "code",
   "execution_count": null,
   "metadata": {},
   "outputs": [],
   "source": []
  }
 ],
 "metadata": {
  "kernelspec": {
   "display_name": "Python 3",
   "language": "python",
   "name": "python3"
  },
  "language_info": {
   "codemirror_mode": {
    "name": "ipython",
    "version": 3
   },
   "file_extension": ".py",
   "mimetype": "text/x-python",
   "name": "python",
   "nbconvert_exporter": "python",
   "pygments_lexer": "ipython3",
   "version": "3.8.3"
  }
 },
 "nbformat": 4,
 "nbformat_minor": 4
}
